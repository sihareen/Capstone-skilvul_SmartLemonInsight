{
  "nbformat": 4,
  "nbformat_minor": 0,
  "metadata": {
    "colab": {
      "provenance": []
    },
    "kernelspec": {
      "name": "python3",
      "display_name": "Python 3"
    },
    "language_info": {
      "name": "python"
    }
  },
  "cells": [
    {
      "cell_type": "markdown",
      "source": [
        "# Kampus Merdeka 6: IBM & Skilvul\n",
        "# Artificial Intelligence Phase Challenge"
      ],
      "metadata": {
        "id": "d1VT4G5tyl5G"
      }
    },
    {
      "cell_type": "markdown",
      "source": [
        "## Kelompok: _ _ _\n",
        "## Anggota\n",
        "\n",
        "*   Nama\n",
        "*   Nama\n",
        "*   Nama\n",
        "*   Nama\n",
        "*   Nama\n"
      ],
      "metadata": {
        "id": "1k24hxtkpMD_"
      }
    },
    {
      "cell_type": "markdown",
      "source": [
        "# Problem Definition\n",
        "##Topik: (tulis topik di sini)\n",
        "\n",
        "## Latar Belakang\n",
        "(tulis latar belakang di sini)\n",
        "## Tujuan Penelitian\n",
        "(tulis tujuan penelitian di sini)\n",
        "## Pertanyaan kunci\n",
        "*   (pertanyaan kunci 1)\n",
        "*   (pertanyaan kunci 2)\n",
        "\n",
        "## Data yang akan dipakai\n",
        "(tulis nama, sumber data, dan deskripsi data di sini)\n",
        "## Jenis Masalah Neural Network\n",
        "(pilih metode yang akan dipakai: Computer Vision (CV) / Natural Language Processing (NLP) / Tabular Data)\n",
        "## Model\n",
        "(pilih model(-model) yang dipakai): MLP / CNN / RNN / LSTM / Lainnya"
      ],
      "metadata": {
        "id": "ZZ6YqGiyyvdC"
      }
    },
    {
      "cell_type": "markdown",
      "source": [
        "# Preparation | Persiapan\n",
        "## Import Libraries"
      ],
      "metadata": {
        "id": "V5C2jSQ6R98h"
      }
    },
    {
      "cell_type": "code",
      "execution_count": null,
      "metadata": {
        "id": "RTGMRAdQaHm8"
      },
      "outputs": [],
      "source": [
        "# import necessary packages\n",
        "import __ as __\n",
        "from __ import __"
      ]
    },
    {
      "cell_type": "markdown",
      "source": [
        "## Get Data | Mendapatkan Data"
      ],
      "metadata": {
        "id": "zPmcajUfSTDd"
      }
    },
    {
      "cell_type": "code",
      "source": [
        "# get data\n",
        "df = pd.read_()"
      ],
      "metadata": {
        "id": "FeEis7MISTW_"
      },
      "execution_count": null,
      "outputs": []
    },
    {
      "cell_type": "markdown",
      "source": [
        "## Explore Data (EDA) | Eksplorasi Data"
      ],
      "metadata": {
        "id": "qlMrrpF9SaIb"
      }
    },
    {
      "cell_type": "code",
      "source": [
        "# check data\n",
        "df.head()"
      ],
      "metadata": {
        "id": "I8wwkBTBSZi0"
      },
      "execution_count": null,
      "outputs": []
    },
    {
      "cell_type": "code",
      "source": [
        "# describe data\n"
      ],
      "metadata": {
        "id": "2ofyr2seDaOf"
      },
      "execution_count": null,
      "outputs": []
    },
    {
      "cell_type": "code",
      "source": [
        "# perform data visualization\n"
      ],
      "metadata": {
        "id": "K36J51OADaG0"
      },
      "execution_count": null,
      "outputs": []
    },
    {
      "cell_type": "code",
      "source": [],
      "metadata": {
        "id": "aW93DvlXDZ9r"
      },
      "execution_count": null,
      "outputs": []
    },
    {
      "cell_type": "markdown",
      "source": [
        "## Preprocess Data | Proses Awal Data"
      ],
      "metadata": {
        "id": "glO3uSH9SnE9"
      }
    },
    {
      "cell_type": "code",
      "source": [],
      "metadata": {
        "id": "g99M8h4gSm08"
      },
      "execution_count": null,
      "outputs": []
    },
    {
      "cell_type": "code",
      "source": [],
      "metadata": {
        "id": "JhZg_2QiDcOk"
      },
      "execution_count": null,
      "outputs": []
    },
    {
      "cell_type": "code",
      "source": [],
      "metadata": {
        "id": "-dvjkwfVrSDA"
      },
      "execution_count": null,
      "outputs": []
    },
    {
      "cell_type": "code",
      "source": [
        "# split data\n"
      ],
      "metadata": {
        "id": "CKY2e7WMrcUS"
      },
      "execution_count": null,
      "outputs": []
    },
    {
      "cell_type": "markdown",
      "source": [
        "# Model Training | Pelatihan Model\n",
        "\n",
        "Sesuai tujuan penelitian dan karakteristik data, n algoritma _neural network_ dipilih untuk dilatih dalam eksperimen:\n",
        "\n",
        "*   Algoritma 1\n",
        "*   Algoritma 2\n",
        "*   Algoritma 3\n",
        "\n"
      ],
      "metadata": {
        "id": "dQks3T8lSofl"
      }
    },
    {
      "cell_type": "code",
      "source": [
        "# build model\n",
        "## set model type\n",
        "\n",
        "## add layers\n"
      ],
      "metadata": {
        "id": "otcM35VNSo0P"
      },
      "execution_count": null,
      "outputs": []
    },
    {
      "cell_type": "code",
      "source": [
        "# print model summary\n"
      ],
      "metadata": {
        "id": "ahnkUW64ri-C"
      },
      "execution_count": null,
      "outputs": []
    },
    {
      "cell_type": "code",
      "source": [
        "# compile model\n",
        "\n",
        "# fit / run model\n"
      ],
      "metadata": {
        "id": "l1FiPenZregs"
      },
      "execution_count": null,
      "outputs": []
    },
    {
      "cell_type": "markdown",
      "source": [
        "# Model Evaluation | Evaluasi Model"
      ],
      "metadata": {
        "id": "cPwx1aYuSsyy"
      }
    },
    {
      "cell_type": "code",
      "source": [
        "# evaluate model\n"
      ],
      "metadata": {
        "id": "mwm0uZ3LSuHU"
      },
      "execution_count": null,
      "outputs": []
    },
    {
      "cell_type": "markdown",
      "source": [
        "# Model Selection | Pemilihan Model\n",
        "\n",
        "Berdasarkan hasil evaluasi ....., diputuskan untuk memilih model ..... ."
      ],
      "metadata": {
        "id": "Y5SjvlWsSum3"
      }
    },
    {
      "cell_type": "code",
      "source": [
        "# save model\n"
      ],
      "metadata": {
        "id": "S-pYpu_fs45j"
      },
      "execution_count": null,
      "outputs": []
    },
    {
      "cell_type": "markdown",
      "source": [
        "# Conclusion | Kesimpulan\n",
        "\n",
        "(tulis kesimpulan di sini)"
      ],
      "metadata": {
        "id": "Ryln4XIEaR-Z"
      }
    },
    {
      "cell_type": "code",
      "source": [],
      "metadata": {
        "id": "8NXRGy3tLbMq"
      },
      "execution_count": null,
      "outputs": []
    }
  ]
}